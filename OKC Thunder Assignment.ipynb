{
 "cells": [
  {
   "cell_type": "code",
   "execution_count": 1,
   "metadata": {},
   "outputs": [],
   "source": [
    "import pandas as pd\n",
    "import numpy as np"
   ]
  },
  {
   "cell_type": "code",
   "execution_count": 147,
   "metadata": {},
   "outputs": [],
   "source": [
    "def eFG(FGM, ThreePM, FGA):\n",
    "    return (FGM + (0.5 * ThreePM))/FGA\n",
    "\n",
    "def shotPercentage(df1, df2):\n",
    "    return df1.shape[0]/df2.shape[0]"
   ]
  },
  {
   "cell_type": "code",
   "execution_count": 188,
   "metadata": {},
   "outputs": [],
   "source": [
    "shots = pd.read_csv(\"shots_data.csv\")\n",
    "\n",
    "TeamA = shots[shots['team'] == 'Team A']\n",
    "TeamB = shots[shots['team'] == 'Team B']\n",
    "\n",
    "AC3 = TeamA[(TeamA['x'].abs() >= 22) & (TeamA['y'].abs() <= 7.8)]\n",
    "ANC3 = TeamA[(TeamA['x'].abs() >= 23.75) & (TeamA['y'].abs() > 7.8)]\n",
    "\n",
    "A3s = pd.concat([AC3, ANC3])\n",
    "As = TeamA.merge(A3s.drop_duplicates(), on=['team','x', 'y', 'fgmade'], how='left', indicator=True)\n",
    "A2pt = As[(As['_merge'] == 'left_only')]\n",
    "\n",
    "BC3 = TeamB[(TeamB['x'].abs() >= 22) & (TeamB['y'].abs() <= 7.8)]\n",
    "BNC3 = TeamB[(TeamB['x'].abs() >= 23.75) & (TeamB['y'].abs() > 7.8)]\n",
    "\n",
    "B3s = pd.concat([BC3, BNC3])\n",
    "Bs = TeamB.merge(B3s.drop_duplicates(), on=['team','x', 'y', 'fgmade'], how='left', indicator=True)\n",
    "B2pt = Bs[(Bs['_merge'] == 'left_only')]"
   ]
  },
  {
   "cell_type": "code",
   "execution_count": 189,
   "metadata": {},
   "outputs": [
    {
     "data": {
      "text/plain": [
       "0.07142857142857142"
      ]
     },
     "execution_count": 189,
     "metadata": {},
     "output_type": "execute_result"
    }
   ],
   "source": [
    "shotPercentage(AC3, TeamA)"
   ]
  },
  {
   "cell_type": "code",
   "execution_count": 190,
   "metadata": {},
   "outputs": [
    {
     "data": {
      "text/plain": [
       "0.0"
      ]
     },
     "execution_count": 190,
     "metadata": {},
     "output_type": "execute_result"
    }
   ],
   "source": [
    "shotPercentage(ANC3, TeamA)"
   ]
  },
  {
   "cell_type": "code",
   "execution_count": 192,
   "metadata": {},
   "outputs": [
    {
     "data": {
      "text/plain": [
       "0.075"
      ]
     },
     "execution_count": 192,
     "metadata": {},
     "output_type": "execute_result"
    }
   ],
   "source": [
    "shotPercentage(BC3, TeamB)"
   ]
  },
  {
   "cell_type": "code",
   "execution_count": 193,
   "metadata": {},
   "outputs": [
    {
     "data": {
      "text/plain": [
       "0.0"
      ]
     },
     "execution_count": 193,
     "metadata": {},
     "output_type": "execute_result"
    }
   ],
   "source": [
    "shotPercentage(BNC3, TeamB)"
   ]
  },
  {
   "cell_type": "code",
   "execution_count": 194,
   "metadata": {},
   "outputs": [
    {
     "data": {
      "text/plain": [
       "0.925"
      ]
     },
     "execution_count": 194,
     "metadata": {},
     "output_type": "execute_result"
    }
   ],
   "source": [
    "shotPercentage(B2pt, TeamB)"
   ]
  },
  {
   "cell_type": "code",
   "execution_count": 195,
   "metadata": {},
   "outputs": [
    {
     "data": {
      "text/plain": [
       "0.9285714285714286"
      ]
     },
     "execution_count": 195,
     "metadata": {},
     "output_type": "execute_result"
    }
   ],
   "source": [
    "shotPercentage(A2pt, TeamA)"
   ]
  },
  {
   "cell_type": "code",
   "execution_count": 196,
   "metadata": {},
   "outputs": [
    {
     "data": {
      "text/plain": [
       "0.6"
      ]
     },
     "execution_count": 196,
     "metadata": {},
     "output_type": "execute_result"
    }
   ],
   "source": [
    "C3FGa = eFG(AC3['fgmade'].sum(), AC3['fgmade'].sum(), AC3.shape[0])\n",
    "C3FGa"
   ]
  },
  {
   "cell_type": "code",
   "execution_count": 197,
   "metadata": {},
   "outputs": [
    {
     "data": {
      "text/plain": [
       "0.35714285714285715"
      ]
     },
     "execution_count": 197,
     "metadata": {},
     "output_type": "execute_result"
    }
   ],
   "source": [
    "C3FGb = eFG(BC3['fgmade'].sum(), BC3['fgmade'].sum(), BC3.shape[0])\n",
    "C3FGb"
   ]
  },
  {
   "cell_type": "code",
   "execution_count": 198,
   "metadata": {},
   "outputs": [
    {
     "name": "stderr",
     "output_type": "stream",
     "text": [
      "<ipython-input-147-d9a0506f0c52>:2: RuntimeWarning: invalid value encountered in double_scalars\n",
      "  return (FGM + (0.5 * ThreePM))/FGA\n"
     ]
    },
    {
     "data": {
      "text/plain": [
       "nan"
      ]
     },
     "execution_count": 198,
     "metadata": {},
     "output_type": "execute_result"
    }
   ],
   "source": [
    "NC3FGa = eFG(ANC3['fgmade'].sum(), ANC3['fgmade'].sum(), ANC3.shape[0])\n",
    "NC3FGa"
   ]
  },
  {
   "cell_type": "code",
   "execution_count": 199,
   "metadata": {},
   "outputs": [
    {
     "name": "stderr",
     "output_type": "stream",
     "text": [
      "<ipython-input-147-d9a0506f0c52>:2: RuntimeWarning: invalid value encountered in double_scalars\n",
      "  return (FGM + (0.5 * ThreePM))/FGA\n"
     ]
    },
    {
     "data": {
      "text/plain": [
       "nan"
      ]
     },
     "execution_count": 199,
     "metadata": {},
     "output_type": "execute_result"
    }
   ],
   "source": [
    "NC3FGb = eFG(BNC3['fgmade'].sum(), BNC3['fgmade'].sum(), BNC3.shape[0])\n",
    "NC3FGb"
   ]
  },
  {
   "cell_type": "code",
   "execution_count": 200,
   "metadata": {},
   "outputs": [
    {
     "data": {
      "text/plain": [
       "0.3730769230769231"
      ]
     },
     "execution_count": 200,
     "metadata": {},
     "output_type": "execute_result"
    }
   ],
   "source": [
    "A2ptFG = eFG(A2pt['fgmade'].sum(), 0, A2pt.shape[0])\n",
    "A2ptFG"
   ]
  },
  {
   "cell_type": "code",
   "execution_count": 201,
   "metadata": {},
   "outputs": [
    {
     "data": {
      "text/plain": [
       "0.4247104247104247"
      ]
     },
     "execution_count": 201,
     "metadata": {},
     "output_type": "execute_result"
    }
   ],
   "source": [
    "B2ptFG = eFG(B2pt['fgmade'].sum(), 0, B2pt.shape[0])\n",
    "B2ptFG"
   ]
  }
 ],
 "metadata": {
  "kernelspec": {
   "display_name": "Python 3",
   "language": "python",
   "name": "python3"
  },
  "language_info": {
   "codemirror_mode": {
    "name": "ipython",
    "version": 3
   },
   "file_extension": ".py",
   "mimetype": "text/x-python",
   "name": "python",
   "nbconvert_exporter": "python",
   "pygments_lexer": "ipython3",
   "version": "3.8.5"
  }
 },
 "nbformat": 4,
 "nbformat_minor": 4
}
